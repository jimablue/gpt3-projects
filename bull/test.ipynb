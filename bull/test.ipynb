{
 "cells": [
  {
   "cell_type": "code",
   "execution_count": null,
   "metadata": {},
   "outputs": [],
   "source": [
    "import requests\n",
    "\n",
    "# Set the URL you want to access\n",
    "url = 'https://bowtiedbull.substack.com/p/rapid-fire-big-picture-update-macro'\n",
    "\n",
    "# Set the cookies you want to include in the request\n",
    "cookies = {\n",
    "  'substack.sid': 's%3AQ-TP958t2SvVbcFnmmm9T0pFiGHbyhnE.InE%2Fd3pb%2BvxdzvbS3BlYyR0U9cHBaakckDlbYbcmfQM'\n",
    "}\n",
    "\n",
    "# Make a GET request to the URL with the cookies\n",
    "response = requests.get(url, cookies=cookies)\n",
    "\n",
    "# Print the response text\n",
    "print(response.text)"
   ]
  },
  {
   "cell_type": "code",
   "execution_count": 1,
   "metadata": {},
   "outputs": [],
   "source": [
    "from bs4 import BeautifulSoup\n",
    "\n",
    "with open('./bull.html', 'r') as f:\n",
    "    file = f.read()\n",
    "    soup = BeautifulSoup(file, 'html.parser')\n",
    "    links = soup.find_all('a', class_='post-preview-title newsletter')\n",
    "ls= []\n",
    "for l in links:\n",
    "    ls.append(l['href'])"
   ]
  },
  {
   "cell_type": "code",
   "execution_count": 4,
   "metadata": {},
   "outputs": [],
   "source": [
    "import json\n",
    "\n",
    "js = json.dumps(ls)\n",
    "import json\n",
    "with open('links.json', 'w') as f:\n",
    "  json.dump(js, f, ensure_ascii=False)"
   ]
  },
  {
   "cell_type": "code",
   "execution_count": null,
   "metadata": {},
   "outputs": [],
   "source": []
  }
 ],
 "metadata": {
  "kernelspec": {
   "display_name": "Python 3",
   "language": "python",
   "name": "python3"
  },
  "language_info": {
   "codemirror_mode": {
    "name": "ipython",
    "version": 3
   },
   "file_extension": ".py",
   "mimetype": "text/x-python",
   "name": "python",
   "nbconvert_exporter": "python",
   "pygments_lexer": "ipython3",
   "version": "3.10.4"
  },
  "orig_nbformat": 4,
  "vscode": {
   "interpreter": {
    "hash": "916dbcbb3f70747c44a77c7bcd40155683ae19c65e1c03b4aa3499c5328201f1"
   }
  }
 },
 "nbformat": 4,
 "nbformat_minor": 2
}
